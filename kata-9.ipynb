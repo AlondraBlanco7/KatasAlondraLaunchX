{
 "cells": [
  {
   "cell_type": "markdown",
   "metadata": {},
   "source": [
    "# Ejercicio 1: Trabajar con argumentos en funciones"
   ]
  },
  {
   "cell_type": "code",
   "execution_count": null,
   "metadata": {},
   "outputs": [],
   "source": [
    "# Calculando promedio en la función\n",
    "\n",
    "def informe_combustible(tanque_1, tanque_2, tanque_3):\n",
    "    promedio = (tanque_1 + tanque_2 + tanque_3)/3\n",
    "    print(f\"\"\"Informe de combustible\n",
    "    Promedio: {promedio}%\n",
    "    Tanque uno: {tanque_1}%\n",
    "    Tanque dos: {tanque_2}%\n",
    "    Tanque tres: {tanque_3}%\"\"\")\n",
    "\n",
    "informe_combustible(10, 80, 40)"
   ]
  },
  {
   "cell_type": "code",
   "execution_count": null,
   "metadata": {},
   "outputs": [],
   "source": [
    "# Calculando promedio fuera de la función\n",
    "\n",
    "def promedio_combustible(tanque_1, tanque_2, tanque_3):\n",
    "    promedio = (tanque_1 + tanque_2 + tanque_3)/3\n",
    "    return promedio\n",
    "\n",
    "def informe_combustible(tanque_1, tanque_2, tanque_3):\n",
    "    promedio = promedio_combustible(tanque_1, tanque_2, tanque_3)\n",
    "    print(f\"\"\"Informe de combustible\n",
    "    Promedio: {promedio}%\n",
    "    Tanque uno: {tanque_1}%\n",
    "    Tanque dos: {tanque_2}%\n",
    "    Tanque tres: {tanque_3}%\"\"\")\n",
    "\n",
    "informe_combustible(10, 90, 20)"
   ]
  },
  {
   "cell_type": "markdown",
   "metadata": {},
   "source": [
    "# Ejercicio 2: Trabajo con argumentos de palabra clave"
   ]
  },
  {
   "cell_type": "code",
   "execution_count": null,
   "metadata": {},
   "outputs": [],
   "source": [
    "def informe_cohete(hora_prelanzamiento, tiempo_vuelo, destino, tanque_externo, tanque_interno):\n",
    "    print(f\"\"\"Informe de cohete\n",
    "    Con destino a: {destino}.\n",
    "    Tiempo total de vuelo: {hora_prelanzamiento + tiempo_vuelo} minutos.\n",
    "    Combustible total: {tanque_externo + tanque_interno} galones.\n",
    "    \"\"\")\n",
    "\n",
    "informe_cohete(17, 78, \"Marte\", 90, 120)"
   ]
  },
  {
   "cell_type": "code",
   "execution_count": null,
   "metadata": {},
   "outputs": [],
   "source": [
    "def informe_cohete(destino, *minutos, **combustible):\n",
    "    print(f\"\"\"Informe de cohete\n",
    "    Con destino a: {destino}.\n",
    "    Tiempo total de vuelo: {sum(minutos)} minutos.\n",
    "    Combustible total: {sum(combustible.values())} galones.\n",
    "    \"\"\")\n",
    "\n",
    "print(informe_cohete(\"Marte\", 10, 15, 51, principal=300000, externo=200000))"
   ]
  },
  {
   "cell_type": "code",
   "execution_count": null,
   "metadata": {},
   "outputs": [],
   "source": [
    "# Usar el nombre de cada tanque en el informe\n",
    "\n",
    "def informe_cohete(destino, *minutos, **combustible):\n",
    "    informe = f\"\"\"Informe de cohete\n",
    "    Con destino a: {destino}.\n",
    "    Tiempo total de vuelo: {sum(minutos)} minutos.\n",
    "    \"\"\"\n",
    "\n",
    "    for nombre_tanque, galones in combustible.items():\n",
    "        informe += f\"Tanque {nombre_tanque}: {galones} galones\\n\"\n",
    "    return informe\n",
    "\n",
    "print(informe_cohete(\"Marte\", 10, 15, 51, principal=300000, externo=200000))"
   ]
  }
 ],
 "metadata": {
  "interpreter": {
   "hash": "bf855be6f7a82b453de5aa4941e85226187b39ce822e7003ff0d4a62a66d3ac2"
  },
  "kernelspec": {
   "display_name": "Python 3.9.2 64-bit",
   "language": "python",
   "name": "python3"
  },
  "language_info": {
   "codemirror_mode": {
    "name": "ipython",
    "version": 3
   },
   "file_extension": ".py",
   "mimetype": "text/x-python",
   "name": "python",
   "nbconvert_exporter": "python",
   "pygments_lexer": "ipython3",
   "version": "3.9.2"
  },
  "orig_nbformat": 4
 },
 "nbformat": 4,
 "nbformat_minor": 2
}
