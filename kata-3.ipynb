{
 "cells": [
  {
   "cell_type": "markdown",
   "metadata": {},
   "source": [
    "# Escribir declaraciones if, else, elif"
   ]
  },
  {
   "cell_type": "code",
   "execution_count": null,
   "metadata": {},
   "outputs": [],
   "source": [
    "# Ejercicio 1\n",
    "\n",
    "velocidad = 25\n",
    "\n",
    "if velocidad > 25:\n",
    "    print(\"¡Peligro, un asteroide se dirige a la Tierra\")\n",
    "else:\n",
    "    print(\"¡Fuera de peligro!\")"
   ]
  },
  {
   "cell_type": "code",
   "execution_count": null,
   "metadata": {},
   "outputs": [],
   "source": [
    "# Ejercicio 2\n",
    "\n",
    "velocidad_asteroide = 19 \n",
    "\n",
    "if velocidad_asteroide >= 20:\n",
    "    print(\"¡Busca un asteroide!\")\n",
    "else:\n",
    "    print(\"No se aproxima ningún asteroide\")"
   ]
  },
  {
   "cell_type": "markdown",
   "metadata": {},
   "source": [
    "# Uso de operadores and y or"
   ]
  },
  {
   "cell_type": "code",
   "execution_count": 7,
   "metadata": {},
   "outputs": [
    {
     "name": "stdout",
     "output_type": "stream",
     "text": [
      "¡Busca un asteroide!\n"
     ]
    }
   ],
   "source": [
    "# Ejercicio 3\n",
    "\n",
    "velocidad_ast = 25\n",
    "tamanio_ast = 20\n",
    "\n",
    "if velocidad_ast > 25 and tamanio_ast > 25:\n",
    "    print('¡Peligro, un asteroide se dirige a la Tierra!')\n",
    "elif velocidad_ast >= 20:\n",
    "    print('¡Busca un asteroide, verás un rayo de luz!')\n",
    "elif tamanio_ast < 25:\n",
    "    print('¡Todo está bajo control')\n",
    "else:\n",
    "    print('¡Todo está bajo control!')\n"
   ]
  }
 ],
 "metadata": {
  "interpreter": {
   "hash": "bf855be6f7a82b453de5aa4941e85226187b39ce822e7003ff0d4a62a66d3ac2"
  },
  "kernelspec": {
   "display_name": "Python 3.9.2 64-bit",
   "language": "python",
   "name": "python3"
  },
  "language_info": {
   "codemirror_mode": {
    "name": "ipython",
    "version": 3
   },
   "file_extension": ".py",
   "mimetype": "text/x-python",
   "name": "python",
   "nbconvert_exporter": "python",
   "pygments_lexer": "ipython3",
   "version": "3.9.2"
  },
  "orig_nbformat": 4
 },
 "nbformat": 4,
 "nbformat_minor": 2
}
