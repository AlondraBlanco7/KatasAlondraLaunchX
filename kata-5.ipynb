{
 "cells": [
  {
   "cell_type": "markdown",
   "metadata": {},
   "source": [
    "# Ejercicio 1 - Utilizar operadores aritméticos"
   ]
  },
  {
   "cell_type": "code",
   "execution_count": null,
   "metadata": {},
   "outputs": [],
   "source": [
    "# Crear variables para almacenar las dos distancias (km)\n",
    "planeta_uno = 149597870         # Tierra\n",
    "planeta_dos = 778547200         # Júpiter"
   ]
  },
  {
   "cell_type": "code",
   "execution_count": null,
   "metadata": {},
   "outputs": [],
   "source": [
    "# Calcular la distancia entre planetas\n",
    "distancia_km = planeta_dos - planeta_uno\n",
    "distancia_millas = distancia_km * 0.621\n",
    "print('La distancia es: ' + str(distancia_km) + ' km')\n",
    "print('La distancia es: ' + str(round(distancia_millas)) + ' millas')"
   ]
  },
  {
   "cell_type": "markdown",
   "metadata": {},
   "source": [
    "# Ejercicio 2 - Convierte cadenas en números y usa valores absolutos"
   ]
  },
  {
   "cell_type": "code",
   "execution_count": 12,
   "metadata": {},
   "outputs": [],
   "source": [
    "# Almacenar las entradas del usuario\n",
    "planeta_uno = int(input('Digita la distancia del sol para el planeta uno: '))\n",
    "planeta_dos = int(input('Digita la distancia del sol para el planeta dos: '))"
   ]
  },
  {
   "cell_type": "code",
   "execution_count": 13,
   "metadata": {},
   "outputs": [
    {
     "name": "stdout",
     "output_type": "stream",
     "text": [
      "30\n",
      "18.63\n"
     ]
    }
   ],
   "source": [
    "# Realizar el cálculo y determinar el valor absoluto\n",
    "distance_km = abs(planeta_dos - planeta_uno)\n",
    "distance_millas = distance_km * 0.621\n",
    "\n",
    "print(distance_km)\n",
    "print(distance_millas)"
   ]
  }
 ],
 "metadata": {
  "interpreter": {
   "hash": "bf855be6f7a82b453de5aa4941e85226187b39ce822e7003ff0d4a62a66d3ac2"
  },
  "kernelspec": {
   "display_name": "Python 3.9.2 64-bit",
   "language": "python",
   "name": "python3"
  },
  "language_info": {
   "codemirror_mode": {
    "name": "ipython",
    "version": 3
   },
   "file_extension": ".py",
   "mimetype": "text/x-python",
   "name": "python",
   "nbconvert_exporter": "python",
   "pygments_lexer": "ipython3",
   "version": "3.9.2"
  },
  "orig_nbformat": 4
 },
 "nbformat": 4,
 "nbformat_minor": 2
}
